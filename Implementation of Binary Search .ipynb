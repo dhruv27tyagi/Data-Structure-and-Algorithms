{
 "cells": [
  {
   "cell_type": "code",
   "execution_count": 1,
   "id": "a2f43817",
   "metadata": {},
   "outputs": [
    {
     "name": "stdout",
     "output_type": "stream",
     "text": [
      "Searching element is present at the index 2\n"
     ]
    }
   ],
   "source": [
    "## Implementation of Binary Search using recursion \n",
    "## Function Definition \n",
    "\n",
    "def binarySearch(arr, i, j, x):\n",
    "    while i<=j:\n",
    "        mid = i + (j-i)//2\n",
    "        if arr[mid] == x:\n",
    "            return mid\n",
    "        elif arr[mid] < x:\n",
    "            ## recursion\n",
    "            return binarySearch(arr, mid+1, j, x)\n",
    "        else: \n",
    "            return binarySearch(arr, i, mid-1, x)\n",
    "    return -1\n",
    "\n",
    "\n",
    "## Driver code \n",
    "## Sorted array\n",
    "arr = [2,5,10,14,18,22,27,35,40,59]\n",
    "x = 10\n",
    "i = 0\n",
    "j = len(arr) - 1\n",
    "\n",
    "## Function call \n",
    "\n",
    "result = binarySearch(arr, i, j, x)\n",
    "print(\"Searching element is present at the index\", result)"
   ]
  },
  {
   "cell_type": "code",
   "execution_count": 2,
   "id": "6dc9cf01",
   "metadata": {},
   "outputs": [
    {
     "name": "stdout",
     "output_type": "stream",
     "text": [
      "Searching element is present at the index -1\n"
     ]
    }
   ],
   "source": [
    "## Implementation of Binary Search without using recursion \n",
    "## Function Definition \n",
    "\n",
    "def binarySearch(arr, i, j, x):\n",
    "    while i<=j:\n",
    "        mid = i + (j-i)//2\n",
    "        if arr[mid] == x:\n",
    "            return mid\n",
    "        elif arr[mid] < x:\n",
    "            ## update the i parameter\n",
    "            i = mid+1\n",
    "            \n",
    "        else: \n",
    "            ## update j parameter\n",
    "            j = mid-1\n",
    "            \n",
    "    return -1\n",
    "\n",
    "\n",
    "## Driver code \n",
    "## Sorted array\n",
    "arr = [2,5,10,14,18,22,27,35,40,59]\n",
    "x = 20\n",
    "i = 0\n",
    "j = len(arr) - 1\n",
    "\n",
    "## Function call \n",
    "\n",
    "result = binarySearch(arr, i, j, x)\n",
    "print(\"Searching element is present at the index\", result)"
   ]
  },
  {
   "cell_type": "code",
   "execution_count": null,
   "id": "fc4d199b",
   "metadata": {},
   "outputs": [],
   "source": []
  },
  {
   "cell_type": "code",
   "execution_count": null,
   "id": "25814c30",
   "metadata": {},
   "outputs": [],
   "source": []
  }
 ],
 "metadata": {
  "kernelspec": {
   "display_name": "Python 3 (ipykernel)",
   "language": "python",
   "name": "python3"
  },
  "language_info": {
   "codemirror_mode": {
    "name": "ipython",
    "version": 3
   },
   "file_extension": ".py",
   "mimetype": "text/x-python",
   "name": "python",
   "nbconvert_exporter": "python",
   "pygments_lexer": "ipython3",
   "version": "3.10.9"
  }
 },
 "nbformat": 4,
 "nbformat_minor": 5
}
