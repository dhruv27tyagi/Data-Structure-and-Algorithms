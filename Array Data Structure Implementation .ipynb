{
 "cells": [
  {
   "cell_type": "code",
   "execution_count": 1,
   "id": "c91bc8c4",
   "metadata": {},
   "outputs": [],
   "source": [
    "arr = [2,1,8,9,12,15,11,19]"
   ]
  },
  {
   "cell_type": "code",
   "execution_count": 2,
   "id": "14ade631",
   "metadata": {},
   "outputs": [
    {
     "data": {
      "text/plain": [
       "12"
      ]
     },
     "execution_count": 2,
     "metadata": {},
     "output_type": "execute_result"
    }
   ],
   "source": [
    "## Random Access \n",
    "arr[4]"
   ]
  },
  {
   "cell_type": "code",
   "execution_count": 4,
   "id": "14497d14",
   "metadata": {},
   "outputs": [
    {
     "name": "stdout",
     "output_type": "stream",
     "text": [
      "Searching element is present at the index 5\n"
     ]
    }
   ],
   "source": [
    "## Search for an elemenet \"15\" and if it's present in an array, return the index of that element \n",
    "## Suppose the searching element is not present in an array, return -1\n",
    "## Time Complexity : O(n)\n",
    "## Space complexity : O(1)\n",
    "## Function Definition\n",
    "\n",
    "def linearSearch(arr, x):\n",
    "    for i in range(len(arr)):\n",
    "        if arr[i] == x:\n",
    "            return i \n",
    "    return -1\n",
    "\n",
    "\n",
    "\n",
    "## Driver code \n",
    "\n",
    "arr = [2,1,8,9,12,15,11,19]\n",
    "x = 15 \n",
    "\n",
    "## Function calling \n",
    "result = linearSearch(arr, x)\n",
    "print(\"Searching element is present at the index\", result)"
   ]
  },
  {
   "cell_type": "code",
   "execution_count": 7,
   "id": "d18d8d96",
   "metadata": {},
   "outputs": [],
   "source": [
    "## Insert an element 5 at index 2 \n",
    "## list.insert(index, element)\n",
    "## Time complexity : O(n)\n",
    "\n",
    "arr.insert(2,5)"
   ]
  },
  {
   "cell_type": "code",
   "execution_count": 8,
   "id": "ffd9444d",
   "metadata": {},
   "outputs": [
    {
     "data": {
      "text/plain": [
       "[2, 1, 5, 8, 9, 12, 2, 15, 11, 19]"
      ]
     },
     "execution_count": 8,
     "metadata": {},
     "output_type": "execute_result"
    }
   ],
   "source": [
    "arr"
   ]
  },
  {
   "cell_type": "code",
   "execution_count": 9,
   "id": "2aa8d56e",
   "metadata": {},
   "outputs": [],
   "source": [
    "## Remove an element from the array \n",
    "\n",
    "arr.remove(8)"
   ]
  },
  {
   "cell_type": "code",
   "execution_count": 10,
   "id": "78a7d00a",
   "metadata": {},
   "outputs": [
    {
     "data": {
      "text/plain": [
       "[2, 1, 5, 9, 12, 2, 15, 11, 19]"
      ]
     },
     "execution_count": 10,
     "metadata": {},
     "output_type": "execute_result"
    }
   ],
   "source": [
    "arr"
   ]
  },
  {
   "cell_type": "code",
   "execution_count": 11,
   "id": "e21708f6",
   "metadata": {},
   "outputs": [
    {
     "data": {
      "text/plain": [
       "2"
      ]
     },
     "execution_count": 11,
     "metadata": {},
     "output_type": "execute_result"
    }
   ],
   "source": [
    "## Count the frequency of an element present inside the array \n",
    "arr.count(2)"
   ]
  },
  {
   "cell_type": "code",
   "execution_count": 12,
   "id": "f6379f75",
   "metadata": {},
   "outputs": [
    {
     "data": {
      "text/plain": [
       "12"
      ]
     },
     "execution_count": 12,
     "metadata": {},
     "output_type": "execute_result"
    }
   ],
   "source": [
    "## Delete an element by providing the index \n",
    "arr.pop(4)"
   ]
  },
  {
   "cell_type": "code",
   "execution_count": 13,
   "id": "23735d5f",
   "metadata": {},
   "outputs": [
    {
     "data": {
      "text/plain": [
       "[2, 1, 5, 9, 2, 15, 11, 19]"
      ]
     },
     "execution_count": 13,
     "metadata": {},
     "output_type": "execute_result"
    }
   ],
   "source": [
    "arr"
   ]
  },
  {
   "cell_type": "code",
   "execution_count": 14,
   "id": "1ea9837d",
   "metadata": {},
   "outputs": [],
   "source": [
    "## Sort the array \n",
    "arr.sort()"
   ]
  },
  {
   "cell_type": "code",
   "execution_count": 15,
   "id": "a517a84b",
   "metadata": {},
   "outputs": [
    {
     "data": {
      "text/plain": [
       "[1, 2, 2, 5, 9, 11, 15, 19]"
      ]
     },
     "execution_count": 15,
     "metadata": {},
     "output_type": "execute_result"
    }
   ],
   "source": [
    "arr\n"
   ]
  },
  {
   "cell_type": "code",
   "execution_count": 16,
   "id": "6eef0852",
   "metadata": {},
   "outputs": [
    {
     "data": {
      "text/plain": [
       "5"
      ]
     },
     "execution_count": 16,
     "metadata": {},
     "output_type": "execute_result"
    }
   ],
   "source": [
    "## To extract the index of any given element \n",
    "\n",
    "arr.index(11)"
   ]
  },
  {
   "cell_type": "code",
   "execution_count": 17,
   "id": "e67d8eff",
   "metadata": {},
   "outputs": [],
   "source": [
    "## To extend the original array \n",
    "arr.extend([2,5,7,10])"
   ]
  },
  {
   "cell_type": "code",
   "execution_count": 18,
   "id": "a7869409",
   "metadata": {},
   "outputs": [
    {
     "data": {
      "text/plain": [
       "[1, 2, 2, 5, 9, 11, 15, 19, 2, 5, 7, 10]"
      ]
     },
     "execution_count": 18,
     "metadata": {},
     "output_type": "execute_result"
    }
   ],
   "source": [
    "arr"
   ]
  },
  {
   "cell_type": "code",
   "execution_count": null,
   "id": "1424c414",
   "metadata": {},
   "outputs": [],
   "source": []
  }
 ],
 "metadata": {
  "kernelspec": {
   "display_name": "Python 3 (ipykernel)",
   "language": "python",
   "name": "python3"
  },
  "language_info": {
   "codemirror_mode": {
    "name": "ipython",
    "version": 3
   },
   "file_extension": ".py",
   "mimetype": "text/x-python",
   "name": "python",
   "nbconvert_exporter": "python",
   "pygments_lexer": "ipython3",
   "version": "3.10.9"
  }
 },
 "nbformat": 4,
 "nbformat_minor": 5
}
